{
 "cells": [
  {
   "cell_type": "code",
   "execution_count": null,
   "metadata": {
    "collapsed": true
   },
   "outputs": [],
   "source": [
    "import torch\n",
    "from torch.autograd import Variable\n",
    "import torch.nn as nn\n",
    "import torch.nn.functional as F\n",
    "import numpy as np\n",
    "import torch.nn.functional as F\n",
    "import torch.optim as optim\n",
    "import torchvision.models as models\n",
    "# from torch.nn.utils.rnn import pack_padded_sequence\n",
    "from model import ImageCNN,MatchCNN\n",
    "import argparse\n",
    "import os\n",
    "import pickle\n",
    "from data_loader import get_loader \n",
    "from build_vocab import Vocabulary\n",
    "from torchvision import transforms\n",
    "import time"
   ]
  },
  {
   "cell_type": "code",
   "execution_count": 26,
   "metadata": {
    "collapsed": true
   },
   "outputs": [],
   "source": [
    "def trainer():\n",
    "    \"\"\"parameters\"\"\"\n",
    "    image_vector_size = 256\n",
    "    embed_size = 100\n",
    "    margin = 0.5\n",
    "    epochs = 1\n",
    "    vocab_size = 9956\n",
    "    momentum=0.9\n",
    "    lr = 0.0001\n",
    "    pad_len = 62\n",
    "    num_workers = 2\n",
    "    batch_size = 100\n",
    "    \n",
    "    \"\"\"set model\"\"\"\n",
    "    imageCNN = ImageCNN(image_vector_size=image_vector_size)\n",
    "    matchCNN = MatchCNN(embed_size = embed_size, \n",
    "                        image_vector_size = image_vector_size, \n",
    "                        vocab_size = vocab_size, \n",
    "                        pad_len = pad_len)\n",
    "\n",
    "    if torch.cuda.is_available():\n",
    "        print(\"cuda is available\")\n",
    "        imageCNN = imageCNN.cuda()\n",
    "        matchCNN = matchCNN.cuda()\n",
    "\n",
    "    \"\"\"load models\"\"\"\n",
    "#    model_path = \"../models\"\n",
    "#    imageCNN.load_state_dict(torch.load(os.path.join(model_path, 'imageCNN0.pkl')))\n",
    "#    matchCNN.load_state_dict(torch.load(os.path.join(model_path, 'matchCNN0.pkl')))\n",
    "    \"\"\"set optimizer\"\"\"\n",
    "    # params = list(imageCNN.parameters()) + list(matchCNN.parameters())\n",
    "    # params = list(imageCNN.linear.parameters()) + list(imageCNN.bn.parameters()) + list(matchCNN.parameters())\n",
    "    params = list(imageCNN.parameters()) + list(matchCNN.parameters())\n",
    "    optimizer = optim.SGD(params, momentum, lr)\n",
    "\n",
    "\n",
    "    # Load vocabulary wrapper.\n",
    "    with open(\"../data/coco/vocab.pkl\", 'rb') as f:\n",
    "        vocab = pickle.load(f)\n",
    "\n",
    "     # Image preprocessing\n",
    "    # For normalization, see https://github.com/pytorch/vision#models\n",
    "    transform = transforms.Compose([ \n",
    "        transforms.RandomCrop(224),\n",
    "        transforms.RandomHorizontalFlip(), \n",
    "        transforms.ToTensor(), \n",
    "        transforms.Normalize((0.485, 0.456, 0.406), \n",
    "                             (0.229, 0.224, 0.225))])\n",
    "    \"\"\"load train data\"\"\"\n",
    "    # Build data loader\n",
    "    data_loader = get_loader(root = \"../data/coco/resized2014\", \n",
    "                         json = \"../data/coco/annotations/captions_train2014.json\", \n",
    "                         vocab = vocab, \n",
    "                         transform = transform, \n",
    "                         batch_size = batch_size,\n",
    "                         shuffle=True,\n",
    "                         num_workers = num_workers,\n",
    "                         pad_len = pad_len) \n",
    "    \n",
    "    mean_losses = []\n",
    "    start = time.time()\n",
    "    target = Variable(torch.ones(batch_size, 1)).cuda()\n",
    "    losses = []\n",
    "    imageCNN.train()\n",
    "    matchCNN.train()\n",
    "    for epoch in range(epochs):\n",
    "        losses = []\n",
    "        for i, (images, captions, lengths) in enumerate(data_loader):\n",
    "            \"\"\"input data\"\"\"\n",
    "    #         image = Variable(torch.randn(batch_size,3,224,224))\n",
    "    #         sentences = Variable(torch.LongTensor(np.random.randint(low=0, high=999, size=(batch_size,pad_len))))\n",
    "            if images.size(0) != batch_size:\n",
    "                break\n",
    "\n",
    "            if torch.cuda.is_available():\n",
    "                images = images.cuda()\n",
    "                captions = captions.cuda()\n",
    "            images = Variable(images, volatile = True)\n",
    "            captions = Variable(captions)\n",
    "            imageCNN.zero_grad()\n",
    "            matchCNN.zero_grad()\n",
    "\n",
    "            \"\"\"extract imgae feature and embed sentence\"\"\"\n",
    "    #         imageCNN = imageCNN.cuda()\n",
    "            image_vectors = imageCNN(images)\n",
    "    #         print(image_vectors)\n",
    "            if torch.cuda.is_available():\n",
    "                image_vectors_wrong = image_vectors[(torch.randperm(batch_size)).cuda()]\n",
    "            else:\n",
    "                image_vectors_wrong = image_vectors[torch.randperm(batch_size)]\n",
    "\n",
    "\n",
    "    #         \"\"\"get correct score\"\"\"\n",
    "            scores = matchCNN(image_vectors, captions)\n",
    "            scores_wrong = matchCNN(image_vectors_wrong, captions)\n",
    "    #         print(\"scores\",scores)\n",
    "\n",
    "    #         break\n",
    "            lossFunc = torch.nn.MarginRankingLoss(margin = 0.5)\n",
    "    #         loss = torch.max(margin + scores_wrong - scores, 0)\n",
    "            loss = lossFunc(scores, scores_wrong, target)\n",
    "            losses.append(loss)\n",
    "            loss.backward()\n",
    "            optimizer.step()\n",
    "    #         if i % 1000 == 0:\n",
    "    #             print(\"i:%s,loss:%s\"%(i,loss))\n",
    "    #             print(\"time used:\", time.time() - start)\n",
    "            if i ==100:\n",
    "                print(\"time used:\", time.time() - start)\n",
    "                break\n",
    "        mean_loss = torch.mean(torch.cat((losses)))\n",
    "        mean_losses.append(mean_loss)\n",
    "        print(\"epoch:\", epoch)\n",
    "        print(\"mean loss:\", mean_loss)\n",
    "        model_path = \"../models\"\n",
    "        \"\"\"save models\"\"\"\n",
    "        t = time.time()\n",
    "        torch.save(imageCNN.state_dict(), os.path.join(model_path, 'imageCNN%d-%d-%d.pkl'%(t,epoch,mean_loss.cpu().data.numpy())))\n",
    "        torch.save(matchCNN.state_dict(), os.path.join(model_path, 'matchCNN%d-%d-%d.pkl'%(t,epoch,mean_loss.cpu().data.numpy())))\n",
    "\n",
    "    print(\"time used:\", time.time() - start)\n"
   ]
  },
  {
   "cell_type": "code",
   "execution_count": 27,
   "metadata": {
    "collapsed": true
   },
   "outputs": [],
   "source": [
    "def main():\n",
    "    trainer()"
   ]
  },
  {
   "cell_type": "code",
   "execution_count": 28,
   "metadata": {},
   "outputs": [
    {
     "name": "stdout",
     "output_type": "stream",
     "text": [
      "cuda is available\n",
      "loading annotations into memory...\n",
      "Done (t=0.41s)\n",
      "creating index...\n",
      "index created!\n",
      "time used: 21.630030632019043\n",
      "epoch: 0\n",
      "mean loss: Variable containing:\n",
      " 0.4998\n",
      "[torch.cuda.FloatTensor of size 1 (GPU 0)]\n",
      "\n",
      "time used: 21.706696033477783\n"
     ]
    }
   ],
   "source": [
    "main()"
   ]
  },
  {
   "cell_type": "code",
   "execution_count": 14,
   "metadata": {
    "collapsed": true
   },
   "outputs": [],
   "source": [
    "losses = Variable(torch.FloatTensor(10))"
   ]
  },
  {
   "cell_type": "code",
   "execution_count": 15,
   "metadata": {},
   "outputs": [],
   "source": [
    "\n",
    "mean_loss = torch.mean(torch.cat((losses)))\n"
   ]
  },
  {
   "cell_type": "code",
   "execution_count": 19,
   "metadata": {},
   "outputs": [
    {
     "data": {
      "text/plain": [
       "\n",
       " 185.9412\n",
       "[torch.FloatTensor of size 1]"
      ]
     },
     "execution_count": 19,
     "metadata": {},
     "output_type": "execute_result"
    }
   ],
   "source": [
    "mean_loss.data"
   ]
  },
  {
   "cell_type": "code",
   "execution_count": 22,
   "metadata": {},
   "outputs": [
    {
     "name": "stdout",
     "output_type": "stream",
     "text": [
      "ms:185\n"
     ]
    }
   ],
   "source": [
    "print(\"ms:%d\"%(mean_loss.data.numpy()))"
   ]
  },
  {
   "cell_type": "code",
   "execution_count": null,
   "metadata": {
    "collapsed": true
   },
   "outputs": [],
   "source": []
  }
 ],
 "metadata": {
  "kernelspec": {
   "display_name": "Python 3",
   "language": "python",
   "name": "python3"
  },
  "language_info": {
   "codemirror_mode": {
    "name": "ipython",
    "version": 3
   },
   "file_extension": ".py",
   "mimetype": "text/x-python",
   "name": "python",
   "nbconvert_exporter": "python",
   "pygments_lexer": "ipython3",
   "version": "3.5.2"
  }
 },
 "nbformat": 4,
 "nbformat_minor": 2
}
